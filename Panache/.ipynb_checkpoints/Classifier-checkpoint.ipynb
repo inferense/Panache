{
 "cells": [
  {
   "cell_type": "code",
   "execution_count": 526,
   "metadata": {},
   "outputs": [],
   "source": [
    "import pandas as pd\n",
    "import matplotlib.pyplot as plt \n",
    "import numpy as np \n",
    "%matplotlib inline\n",
    "from sklearn import svm\n",
    "from sklearn.model_selection import train_test_split\n",
    "from sklearn import metrics\n",
    "import pickle\n",
    "\n",
    "import requests"
   ]
  },
  {
   "cell_type": "code",
   "execution_count": 675,
   "metadata": {},
   "outputs": [
    {
     "ename": "HTTPError",
     "evalue": "HTTP Error 502: Bad Gateway",
     "output_type": "error",
     "traceback": [
      "\u001b[0;31m---------------------------------------------------------------------------\u001b[0m",
      "\u001b[0;31mHTTPError\u001b[0m                                 Traceback (most recent call last)",
      "\u001b[0;32m<ipython-input-675-875e03a86361>\u001b[0m in \u001b[0;36m<module>\u001b[0;34m\u001b[0m\n\u001b[0;32m----> 1\u001b[0;31m \u001b[0mdata\u001b[0m \u001b[0;34m=\u001b[0m \u001b[0mpd\u001b[0m\u001b[0;34m.\u001b[0m\u001b[0mread_csv\u001b[0m\u001b[0;34m(\u001b[0m\u001b[0;34m'http://3e9387c7.ngrok.io/get_data'\u001b[0m\u001b[0;34m)\u001b[0m\u001b[0;34m\u001b[0m\u001b[0;34m\u001b[0m\u001b[0m\n\u001b[0m",
      "\u001b[0;32m~/opt/anaconda3/lib/python3.7/site-packages/pandas/io/parsers.py\u001b[0m in \u001b[0;36mparser_f\u001b[0;34m(filepath_or_buffer, sep, delimiter, header, names, index_col, usecols, squeeze, prefix, mangle_dupe_cols, dtype, engine, converters, true_values, false_values, skipinitialspace, skiprows, skipfooter, nrows, na_values, keep_default_na, na_filter, verbose, skip_blank_lines, parse_dates, infer_datetime_format, keep_date_col, date_parser, dayfirst, cache_dates, iterator, chunksize, compression, thousands, decimal, lineterminator, quotechar, quoting, doublequote, escapechar, comment, encoding, dialect, error_bad_lines, warn_bad_lines, delim_whitespace, low_memory, memory_map, float_precision)\u001b[0m\n\u001b[1;32m    683\u001b[0m         )\n\u001b[1;32m    684\u001b[0m \u001b[0;34m\u001b[0m\u001b[0m\n\u001b[0;32m--> 685\u001b[0;31m         \u001b[0;32mreturn\u001b[0m \u001b[0m_read\u001b[0m\u001b[0;34m(\u001b[0m\u001b[0mfilepath_or_buffer\u001b[0m\u001b[0;34m,\u001b[0m \u001b[0mkwds\u001b[0m\u001b[0;34m)\u001b[0m\u001b[0;34m\u001b[0m\u001b[0;34m\u001b[0m\u001b[0m\n\u001b[0m\u001b[1;32m    686\u001b[0m \u001b[0;34m\u001b[0m\u001b[0m\n\u001b[1;32m    687\u001b[0m     \u001b[0mparser_f\u001b[0m\u001b[0;34m.\u001b[0m\u001b[0m__name__\u001b[0m \u001b[0;34m=\u001b[0m \u001b[0mname\u001b[0m\u001b[0;34m\u001b[0m\u001b[0;34m\u001b[0m\u001b[0m\n",
      "\u001b[0;32m~/opt/anaconda3/lib/python3.7/site-packages/pandas/io/parsers.py\u001b[0m in \u001b[0;36m_read\u001b[0;34m(filepath_or_buffer, kwds)\u001b[0m\n\u001b[1;32m    438\u001b[0m     \u001b[0;31m# See https://github.com/python/mypy/issues/1297\u001b[0m\u001b[0;34m\u001b[0m\u001b[0;34m\u001b[0m\u001b[0;34m\u001b[0m\u001b[0m\n\u001b[1;32m    439\u001b[0m     fp_or_buf, _, compression, should_close = get_filepath_or_buffer(\n\u001b[0;32m--> 440\u001b[0;31m         \u001b[0mfilepath_or_buffer\u001b[0m\u001b[0;34m,\u001b[0m \u001b[0mencoding\u001b[0m\u001b[0;34m,\u001b[0m \u001b[0mcompression\u001b[0m\u001b[0;34m\u001b[0m\u001b[0;34m\u001b[0m\u001b[0m\n\u001b[0m\u001b[1;32m    441\u001b[0m     )\n\u001b[1;32m    442\u001b[0m     \u001b[0mkwds\u001b[0m\u001b[0;34m[\u001b[0m\u001b[0;34m\"compression\"\u001b[0m\u001b[0;34m]\u001b[0m \u001b[0;34m=\u001b[0m \u001b[0mcompression\u001b[0m\u001b[0;34m\u001b[0m\u001b[0;34m\u001b[0m\u001b[0m\n",
      "\u001b[0;32m~/opt/anaconda3/lib/python3.7/site-packages/pandas/io/common.py\u001b[0m in \u001b[0;36mget_filepath_or_buffer\u001b[0;34m(filepath_or_buffer, encoding, compression, mode)\u001b[0m\n\u001b[1;32m    194\u001b[0m \u001b[0;34m\u001b[0m\u001b[0m\n\u001b[1;32m    195\u001b[0m     \u001b[0;32mif\u001b[0m \u001b[0m_is_url\u001b[0m\u001b[0;34m(\u001b[0m\u001b[0mfilepath_or_buffer\u001b[0m\u001b[0;34m)\u001b[0m\u001b[0;34m:\u001b[0m\u001b[0;34m\u001b[0m\u001b[0;34m\u001b[0m\u001b[0m\n\u001b[0;32m--> 196\u001b[0;31m         \u001b[0mreq\u001b[0m \u001b[0;34m=\u001b[0m \u001b[0murlopen\u001b[0m\u001b[0;34m(\u001b[0m\u001b[0mfilepath_or_buffer\u001b[0m\u001b[0;34m)\u001b[0m\u001b[0;34m\u001b[0m\u001b[0;34m\u001b[0m\u001b[0m\n\u001b[0m\u001b[1;32m    197\u001b[0m         \u001b[0mcontent_encoding\u001b[0m \u001b[0;34m=\u001b[0m \u001b[0mreq\u001b[0m\u001b[0;34m.\u001b[0m\u001b[0mheaders\u001b[0m\u001b[0;34m.\u001b[0m\u001b[0mget\u001b[0m\u001b[0;34m(\u001b[0m\u001b[0;34m\"Content-Encoding\"\u001b[0m\u001b[0;34m,\u001b[0m \u001b[0;32mNone\u001b[0m\u001b[0;34m)\u001b[0m\u001b[0;34m\u001b[0m\u001b[0;34m\u001b[0m\u001b[0m\n\u001b[1;32m    198\u001b[0m         \u001b[0;32mif\u001b[0m \u001b[0mcontent_encoding\u001b[0m \u001b[0;34m==\u001b[0m \u001b[0;34m\"gzip\"\u001b[0m\u001b[0;34m:\u001b[0m\u001b[0;34m\u001b[0m\u001b[0;34m\u001b[0m\u001b[0m\n",
      "\u001b[0;32m~/opt/anaconda3/lib/python3.7/urllib/request.py\u001b[0m in \u001b[0;36murlopen\u001b[0;34m(url, data, timeout, cafile, capath, cadefault, context)\u001b[0m\n\u001b[1;32m    220\u001b[0m     \u001b[0;32melse\u001b[0m\u001b[0;34m:\u001b[0m\u001b[0;34m\u001b[0m\u001b[0;34m\u001b[0m\u001b[0m\n\u001b[1;32m    221\u001b[0m         \u001b[0mopener\u001b[0m \u001b[0;34m=\u001b[0m \u001b[0m_opener\u001b[0m\u001b[0;34m\u001b[0m\u001b[0;34m\u001b[0m\u001b[0m\n\u001b[0;32m--> 222\u001b[0;31m     \u001b[0;32mreturn\u001b[0m \u001b[0mopener\u001b[0m\u001b[0;34m.\u001b[0m\u001b[0mopen\u001b[0m\u001b[0;34m(\u001b[0m\u001b[0murl\u001b[0m\u001b[0;34m,\u001b[0m \u001b[0mdata\u001b[0m\u001b[0;34m,\u001b[0m \u001b[0mtimeout\u001b[0m\u001b[0;34m)\u001b[0m\u001b[0;34m\u001b[0m\u001b[0;34m\u001b[0m\u001b[0m\n\u001b[0m\u001b[1;32m    223\u001b[0m \u001b[0;34m\u001b[0m\u001b[0m\n\u001b[1;32m    224\u001b[0m \u001b[0;32mdef\u001b[0m \u001b[0minstall_opener\u001b[0m\u001b[0;34m(\u001b[0m\u001b[0mopener\u001b[0m\u001b[0;34m)\u001b[0m\u001b[0;34m:\u001b[0m\u001b[0;34m\u001b[0m\u001b[0;34m\u001b[0m\u001b[0m\n",
      "\u001b[0;32m~/opt/anaconda3/lib/python3.7/urllib/request.py\u001b[0m in \u001b[0;36mopen\u001b[0;34m(self, fullurl, data, timeout)\u001b[0m\n\u001b[1;32m    529\u001b[0m         \u001b[0;32mfor\u001b[0m \u001b[0mprocessor\u001b[0m \u001b[0;32min\u001b[0m \u001b[0mself\u001b[0m\u001b[0;34m.\u001b[0m\u001b[0mprocess_response\u001b[0m\u001b[0;34m.\u001b[0m\u001b[0mget\u001b[0m\u001b[0;34m(\u001b[0m\u001b[0mprotocol\u001b[0m\u001b[0;34m,\u001b[0m \u001b[0;34m[\u001b[0m\u001b[0;34m]\u001b[0m\u001b[0;34m)\u001b[0m\u001b[0;34m:\u001b[0m\u001b[0;34m\u001b[0m\u001b[0;34m\u001b[0m\u001b[0m\n\u001b[1;32m    530\u001b[0m             \u001b[0mmeth\u001b[0m \u001b[0;34m=\u001b[0m \u001b[0mgetattr\u001b[0m\u001b[0;34m(\u001b[0m\u001b[0mprocessor\u001b[0m\u001b[0;34m,\u001b[0m \u001b[0mmeth_name\u001b[0m\u001b[0;34m)\u001b[0m\u001b[0;34m\u001b[0m\u001b[0;34m\u001b[0m\u001b[0m\n\u001b[0;32m--> 531\u001b[0;31m             \u001b[0mresponse\u001b[0m \u001b[0;34m=\u001b[0m \u001b[0mmeth\u001b[0m\u001b[0;34m(\u001b[0m\u001b[0mreq\u001b[0m\u001b[0;34m,\u001b[0m \u001b[0mresponse\u001b[0m\u001b[0;34m)\u001b[0m\u001b[0;34m\u001b[0m\u001b[0;34m\u001b[0m\u001b[0m\n\u001b[0m\u001b[1;32m    532\u001b[0m \u001b[0;34m\u001b[0m\u001b[0m\n\u001b[1;32m    533\u001b[0m         \u001b[0;32mreturn\u001b[0m \u001b[0mresponse\u001b[0m\u001b[0;34m\u001b[0m\u001b[0;34m\u001b[0m\u001b[0m\n",
      "\u001b[0;32m~/opt/anaconda3/lib/python3.7/urllib/request.py\u001b[0m in \u001b[0;36mhttp_response\u001b[0;34m(self, request, response)\u001b[0m\n\u001b[1;32m    639\u001b[0m         \u001b[0;32mif\u001b[0m \u001b[0;32mnot\u001b[0m \u001b[0;34m(\u001b[0m\u001b[0;36m200\u001b[0m \u001b[0;34m<=\u001b[0m \u001b[0mcode\u001b[0m \u001b[0;34m<\u001b[0m \u001b[0;36m300\u001b[0m\u001b[0;34m)\u001b[0m\u001b[0;34m:\u001b[0m\u001b[0;34m\u001b[0m\u001b[0;34m\u001b[0m\u001b[0m\n\u001b[1;32m    640\u001b[0m             response = self.parent.error(\n\u001b[0;32m--> 641\u001b[0;31m                 'http', request, response, code, msg, hdrs)\n\u001b[0m\u001b[1;32m    642\u001b[0m \u001b[0;34m\u001b[0m\u001b[0m\n\u001b[1;32m    643\u001b[0m         \u001b[0;32mreturn\u001b[0m \u001b[0mresponse\u001b[0m\u001b[0;34m\u001b[0m\u001b[0;34m\u001b[0m\u001b[0m\n",
      "\u001b[0;32m~/opt/anaconda3/lib/python3.7/urllib/request.py\u001b[0m in \u001b[0;36merror\u001b[0;34m(self, proto, *args)\u001b[0m\n\u001b[1;32m    567\u001b[0m         \u001b[0;32mif\u001b[0m \u001b[0mhttp_err\u001b[0m\u001b[0;34m:\u001b[0m\u001b[0;34m\u001b[0m\u001b[0;34m\u001b[0m\u001b[0m\n\u001b[1;32m    568\u001b[0m             \u001b[0margs\u001b[0m \u001b[0;34m=\u001b[0m \u001b[0;34m(\u001b[0m\u001b[0mdict\u001b[0m\u001b[0;34m,\u001b[0m \u001b[0;34m'default'\u001b[0m\u001b[0;34m,\u001b[0m \u001b[0;34m'http_error_default'\u001b[0m\u001b[0;34m)\u001b[0m \u001b[0;34m+\u001b[0m \u001b[0morig_args\u001b[0m\u001b[0;34m\u001b[0m\u001b[0;34m\u001b[0m\u001b[0m\n\u001b[0;32m--> 569\u001b[0;31m             \u001b[0;32mreturn\u001b[0m \u001b[0mself\u001b[0m\u001b[0;34m.\u001b[0m\u001b[0m_call_chain\u001b[0m\u001b[0;34m(\u001b[0m\u001b[0;34m*\u001b[0m\u001b[0margs\u001b[0m\u001b[0;34m)\u001b[0m\u001b[0;34m\u001b[0m\u001b[0;34m\u001b[0m\u001b[0m\n\u001b[0m\u001b[1;32m    570\u001b[0m \u001b[0;34m\u001b[0m\u001b[0m\n\u001b[1;32m    571\u001b[0m \u001b[0;31m# XXX probably also want an abstract factory that knows when it makes\u001b[0m\u001b[0;34m\u001b[0m\u001b[0;34m\u001b[0m\u001b[0;34m\u001b[0m\u001b[0m\n",
      "\u001b[0;32m~/opt/anaconda3/lib/python3.7/urllib/request.py\u001b[0m in \u001b[0;36m_call_chain\u001b[0;34m(self, chain, kind, meth_name, *args)\u001b[0m\n\u001b[1;32m    501\u001b[0m         \u001b[0;32mfor\u001b[0m \u001b[0mhandler\u001b[0m \u001b[0;32min\u001b[0m \u001b[0mhandlers\u001b[0m\u001b[0;34m:\u001b[0m\u001b[0;34m\u001b[0m\u001b[0;34m\u001b[0m\u001b[0m\n\u001b[1;32m    502\u001b[0m             \u001b[0mfunc\u001b[0m \u001b[0;34m=\u001b[0m \u001b[0mgetattr\u001b[0m\u001b[0;34m(\u001b[0m\u001b[0mhandler\u001b[0m\u001b[0;34m,\u001b[0m \u001b[0mmeth_name\u001b[0m\u001b[0;34m)\u001b[0m\u001b[0;34m\u001b[0m\u001b[0;34m\u001b[0m\u001b[0m\n\u001b[0;32m--> 503\u001b[0;31m             \u001b[0mresult\u001b[0m \u001b[0;34m=\u001b[0m \u001b[0mfunc\u001b[0m\u001b[0;34m(\u001b[0m\u001b[0;34m*\u001b[0m\u001b[0margs\u001b[0m\u001b[0;34m)\u001b[0m\u001b[0;34m\u001b[0m\u001b[0;34m\u001b[0m\u001b[0m\n\u001b[0m\u001b[1;32m    504\u001b[0m             \u001b[0;32mif\u001b[0m \u001b[0mresult\u001b[0m \u001b[0;32mis\u001b[0m \u001b[0;32mnot\u001b[0m \u001b[0;32mNone\u001b[0m\u001b[0;34m:\u001b[0m\u001b[0;34m\u001b[0m\u001b[0;34m\u001b[0m\u001b[0m\n\u001b[1;32m    505\u001b[0m                 \u001b[0;32mreturn\u001b[0m \u001b[0mresult\u001b[0m\u001b[0;34m\u001b[0m\u001b[0;34m\u001b[0m\u001b[0m\n",
      "\u001b[0;32m~/opt/anaconda3/lib/python3.7/urllib/request.py\u001b[0m in \u001b[0;36mhttp_error_default\u001b[0;34m(self, req, fp, code, msg, hdrs)\u001b[0m\n\u001b[1;32m    647\u001b[0m \u001b[0;32mclass\u001b[0m \u001b[0mHTTPDefaultErrorHandler\u001b[0m\u001b[0;34m(\u001b[0m\u001b[0mBaseHandler\u001b[0m\u001b[0;34m)\u001b[0m\u001b[0;34m:\u001b[0m\u001b[0;34m\u001b[0m\u001b[0;34m\u001b[0m\u001b[0m\n\u001b[1;32m    648\u001b[0m     \u001b[0;32mdef\u001b[0m \u001b[0mhttp_error_default\u001b[0m\u001b[0;34m(\u001b[0m\u001b[0mself\u001b[0m\u001b[0;34m,\u001b[0m \u001b[0mreq\u001b[0m\u001b[0;34m,\u001b[0m \u001b[0mfp\u001b[0m\u001b[0;34m,\u001b[0m \u001b[0mcode\u001b[0m\u001b[0;34m,\u001b[0m \u001b[0mmsg\u001b[0m\u001b[0;34m,\u001b[0m \u001b[0mhdrs\u001b[0m\u001b[0;34m)\u001b[0m\u001b[0;34m:\u001b[0m\u001b[0;34m\u001b[0m\u001b[0;34m\u001b[0m\u001b[0m\n\u001b[0;32m--> 649\u001b[0;31m         \u001b[0;32mraise\u001b[0m \u001b[0mHTTPError\u001b[0m\u001b[0;34m(\u001b[0m\u001b[0mreq\u001b[0m\u001b[0;34m.\u001b[0m\u001b[0mfull_url\u001b[0m\u001b[0;34m,\u001b[0m \u001b[0mcode\u001b[0m\u001b[0;34m,\u001b[0m \u001b[0mmsg\u001b[0m\u001b[0;34m,\u001b[0m \u001b[0mhdrs\u001b[0m\u001b[0;34m,\u001b[0m \u001b[0mfp\u001b[0m\u001b[0;34m)\u001b[0m\u001b[0;34m\u001b[0m\u001b[0;34m\u001b[0m\u001b[0m\n\u001b[0m\u001b[1;32m    650\u001b[0m \u001b[0;34m\u001b[0m\u001b[0m\n\u001b[1;32m    651\u001b[0m \u001b[0;32mclass\u001b[0m \u001b[0mHTTPRedirectHandler\u001b[0m\u001b[0;34m(\u001b[0m\u001b[0mBaseHandler\u001b[0m\u001b[0;34m)\u001b[0m\u001b[0;34m:\u001b[0m\u001b[0;34m\u001b[0m\u001b[0;34m\u001b[0m\u001b[0m\n",
      "\u001b[0;31mHTTPError\u001b[0m: HTTP Error 502: Bad Gateway"
     ]
    }
   ],
   "source": [
    "data = pd.read_csv('http://3e9387c7.ngrok.io/get_data')"
   ]
  },
  {
   "cell_type": "code",
   "execution_count": null,
   "metadata": {},
   "outputs": [],
   "source": [
    "data"
   ]
  },
  {
   "cell_type": "code",
   "execution_count": 201,
   "metadata": {},
   "outputs": [],
   "source": [
    "# data.to_csv('gesture_decline.csv')"
   ]
  },
  {
   "cell_type": "code",
   "execution_count": 667,
   "metadata": {},
   "outputs": [],
   "source": [
    "gesture1 = pd.read_csv('gesture_accept.csv')\n",
    "gesture2 = pd.read_csv('gesture_decline.csv')"
   ]
  },
  {
   "cell_type": "markdown",
   "metadata": {},
   "source": [
    "#### training data prepocessing "
   ]
  },
  {
   "cell_type": "code",
   "execution_count": 668,
   "metadata": {},
   "outputs": [
    {
     "data": {
      "text/html": [
       "<div>\n",
       "<style scoped>\n",
       "    .dataframe tbody tr th:only-of-type {\n",
       "        vertical-align: middle;\n",
       "    }\n",
       "\n",
       "    .dataframe tbody tr th {\n",
       "        vertical-align: top;\n",
       "    }\n",
       "\n",
       "    .dataframe thead th {\n",
       "        text-align: right;\n",
       "    }\n",
       "</style>\n",
       "<table border=\"1\" class=\"dataframe\">\n",
       "  <thead>\n",
       "    <tr style=\"text-align: right;\">\n",
       "      <th></th>\n",
       "      <th>Unnamed: 0</th>\n",
       "      <th>x</th>\n",
       "      <th>y</th>\n",
       "      <th>z</th>\n",
       "    </tr>\n",
       "  </thead>\n",
       "  <tbody>\n",
       "    <tr>\n",
       "      <td>0</td>\n",
       "      <td>0</td>\n",
       "      <td>0.000000</td>\n",
       "      <td>0.000000</td>\n",
       "      <td>0.000000</td>\n",
       "    </tr>\n",
       "    <tr>\n",
       "      <td>1</td>\n",
       "      <td>1</td>\n",
       "      <td>-0.064209</td>\n",
       "      <td>0.028076</td>\n",
       "      <td>0.154785</td>\n",
       "    </tr>\n",
       "    <tr>\n",
       "      <td>2</td>\n",
       "      <td>2</td>\n",
       "      <td>-0.645020</td>\n",
       "      <td>-0.220459</td>\n",
       "      <td>0.068604</td>\n",
       "    </tr>\n",
       "    <tr>\n",
       "      <td>3</td>\n",
       "      <td>3</td>\n",
       "      <td>2.791260</td>\n",
       "      <td>-0.025879</td>\n",
       "      <td>0.772705</td>\n",
       "    </tr>\n",
       "    <tr>\n",
       "      <td>4</td>\n",
       "      <td>4</td>\n",
       "      <td>-0.729736</td>\n",
       "      <td>-0.090332</td>\n",
       "      <td>0.064453</td>\n",
       "    </tr>\n",
       "    <tr>\n",
       "      <td>...</td>\n",
       "      <td>...</td>\n",
       "      <td>...</td>\n",
       "      <td>...</td>\n",
       "      <td>...</td>\n",
       "    </tr>\n",
       "    <tr>\n",
       "      <td>95</td>\n",
       "      <td>95</td>\n",
       "      <td>3.433350</td>\n",
       "      <td>0.462646</td>\n",
       "      <td>-0.652344</td>\n",
       "    </tr>\n",
       "    <tr>\n",
       "      <td>96</td>\n",
       "      <td>96</td>\n",
       "      <td>0.753418</td>\n",
       "      <td>-0.129639</td>\n",
       "      <td>0.078369</td>\n",
       "    </tr>\n",
       "    <tr>\n",
       "      <td>97</td>\n",
       "      <td>97</td>\n",
       "      <td>-0.509033</td>\n",
       "      <td>-0.275879</td>\n",
       "      <td>0.078125</td>\n",
       "    </tr>\n",
       "    <tr>\n",
       "      <td>98</td>\n",
       "      <td>98</td>\n",
       "      <td>4.232178</td>\n",
       "      <td>0.591064</td>\n",
       "      <td>-0.282959</td>\n",
       "    </tr>\n",
       "    <tr>\n",
       "      <td>99</td>\n",
       "      <td>99</td>\n",
       "      <td>-0.207031</td>\n",
       "      <td>-0.021484</td>\n",
       "      <td>0.107178</td>\n",
       "    </tr>\n",
       "  </tbody>\n",
       "</table>\n",
       "<p>100 rows × 4 columns</p>\n",
       "</div>"
      ],
      "text/plain": [
       "    Unnamed: 0         x         y         z\n",
       "0            0  0.000000  0.000000  0.000000\n",
       "1            1 -0.064209  0.028076  0.154785\n",
       "2            2 -0.645020 -0.220459  0.068604\n",
       "3            3  2.791260 -0.025879  0.772705\n",
       "4            4 -0.729736 -0.090332  0.064453\n",
       "..         ...       ...       ...       ...\n",
       "95          95  3.433350  0.462646 -0.652344\n",
       "96          96  0.753418 -0.129639  0.078369\n",
       "97          97 -0.509033 -0.275879  0.078125\n",
       "98          98  4.232178  0.591064 -0.282959\n",
       "99          99 -0.207031 -0.021484  0.107178\n",
       "\n",
       "[100 rows x 4 columns]"
      ]
     },
     "execution_count": 668,
     "metadata": {},
     "output_type": "execute_result"
    }
   ],
   "source": [
    "gesture1[:100]"
   ]
  },
  {
   "cell_type": "code",
   "execution_count": 671,
   "metadata": {},
   "outputs": [],
   "source": [
    "a = gesture1.loc[:10]"
   ]
  },
  {
   "cell_type": "code",
   "execution_count": null,
   "metadata": {},
   "outputs": [],
   "source": []
  },
  {
   "cell_type": "code",
   "execution_count": null,
   "metadata": {},
   "outputs": [],
   "source": []
  },
  {
   "cell_type": "code",
   "execution_count": null,
   "metadata": {},
   "outputs": [],
   "source": []
  },
  {
   "cell_type": "code",
   "execution_count": 662,
   "metadata": {},
   "outputs": [
    {
     "data": {
      "text/plain": [
       "0       False\n",
       "1        True\n",
       "2        True\n",
       "3        True\n",
       "4        True\n",
       "        ...  \n",
       "2996     True\n",
       "2997     True\n",
       "2998     True\n",
       "2999     True\n",
       "3000     True\n",
       "Length: 3001, dtype: bool"
      ]
     },
     "execution_count": 662,
     "metadata": {},
     "output_type": "execute_result"
    }
   ],
   "source": [
    "gesture1.any(1)"
   ]
  },
  {
   "cell_type": "code",
   "execution_count": 666,
   "metadata": {},
   "outputs": [
    {
     "data": {
      "text/plain": [
       "0     True\n",
       "1    False\n",
       "2    False\n",
       "3    False\n",
       "4    False\n",
       "5    False\n",
       "6    False\n",
       "7    False\n",
       "8    False\n",
       "9    False\n",
       "dtype: bool"
      ]
     },
     "execution_count": 666,
     "metadata": {},
     "output_type": "execute_result"
    }
   ],
   "source": [
    "(gesture1[:10] == 0).all(1)"
   ]
  },
  {
   "cell_type": "code",
   "execution_count": 623,
   "metadata": {},
   "outputs": [
    {
     "data": {
      "text/html": [
       "<div>\n",
       "<style scoped>\n",
       "    .dataframe tbody tr th:only-of-type {\n",
       "        vertical-align: middle;\n",
       "    }\n",
       "\n",
       "    .dataframe tbody tr th {\n",
       "        vertical-align: top;\n",
       "    }\n",
       "\n",
       "    .dataframe thead th {\n",
       "        text-align: right;\n",
       "    }\n",
       "</style>\n",
       "<table border=\"1\" class=\"dataframe\">\n",
       "  <thead>\n",
       "    <tr style=\"text-align: right;\">\n",
       "      <th></th>\n",
       "      <th>Unnamed: 0</th>\n",
       "      <th>x</th>\n",
       "      <th>y</th>\n",
       "      <th>z</th>\n",
       "    </tr>\n",
       "  </thead>\n",
       "  <tbody>\n",
       "    <tr>\n",
       "      <td>0</td>\n",
       "      <td>0</td>\n",
       "      <td>0.0</td>\n",
       "      <td>0.0</td>\n",
       "      <td>0.0</td>\n",
       "    </tr>\n",
       "    <tr>\n",
       "      <td>100</td>\n",
       "      <td>100</td>\n",
       "      <td>0.0</td>\n",
       "      <td>0.0</td>\n",
       "      <td>0.0</td>\n",
       "    </tr>\n",
       "    <tr>\n",
       "      <td>202</td>\n",
       "      <td>202</td>\n",
       "      <td>0.0</td>\n",
       "      <td>0.0</td>\n",
       "      <td>0.0</td>\n",
       "    </tr>\n",
       "    <tr>\n",
       "      <td>303</td>\n",
       "      <td>303</td>\n",
       "      <td>0.0</td>\n",
       "      <td>0.0</td>\n",
       "      <td>0.0</td>\n",
       "    </tr>\n",
       "    <tr>\n",
       "      <td>406</td>\n",
       "      <td>406</td>\n",
       "      <td>0.0</td>\n",
       "      <td>0.0</td>\n",
       "      <td>0.0</td>\n",
       "    </tr>\n",
       "    <tr>\n",
       "      <td>510</td>\n",
       "      <td>510</td>\n",
       "      <td>0.0</td>\n",
       "      <td>0.0</td>\n",
       "      <td>0.0</td>\n",
       "    </tr>\n",
       "    <tr>\n",
       "      <td>615</td>\n",
       "      <td>615</td>\n",
       "      <td>0.0</td>\n",
       "      <td>0.0</td>\n",
       "      <td>0.0</td>\n",
       "    </tr>\n",
       "    <tr>\n",
       "      <td>721</td>\n",
       "      <td>721</td>\n",
       "      <td>0.0</td>\n",
       "      <td>0.0</td>\n",
       "      <td>0.0</td>\n",
       "    </tr>\n",
       "    <tr>\n",
       "      <td>828</td>\n",
       "      <td>828</td>\n",
       "      <td>0.0</td>\n",
       "      <td>0.0</td>\n",
       "      <td>0.0</td>\n",
       "    </tr>\n",
       "    <tr>\n",
       "      <td>936</td>\n",
       "      <td>936</td>\n",
       "      <td>0.0</td>\n",
       "      <td>0.0</td>\n",
       "      <td>0.0</td>\n",
       "    </tr>\n",
       "    <tr>\n",
       "      <td>1045</td>\n",
       "      <td>1045</td>\n",
       "      <td>0.0</td>\n",
       "      <td>0.0</td>\n",
       "      <td>0.0</td>\n",
       "    </tr>\n",
       "  </tbody>\n",
       "</table>\n",
       "</div>"
      ],
      "text/plain": [
       "      Unnamed: 0    x    y    z\n",
       "0              0  0.0  0.0  0.0\n",
       "100          100  0.0  0.0  0.0\n",
       "202          202  0.0  0.0  0.0\n",
       "303          303  0.0  0.0  0.0\n",
       "406          406  0.0  0.0  0.0\n",
       "510          510  0.0  0.0  0.0\n",
       "615          615  0.0  0.0  0.0\n",
       "721          721  0.0  0.0  0.0\n",
       "828          828  0.0  0.0  0.0\n",
       "936          936  0.0  0.0  0.0\n",
       "1045        1045  0.0  0.0  0.0"
      ]
     },
     "execution_count": 623,
     "metadata": {},
     "output_type": "execute_result"
    }
   ],
   "source": [
    "gesture1.loc[(gesture1==0).any(1)]"
   ]
  },
  {
   "cell_type": "code",
   "execution_count": 183,
   "metadata": {},
   "outputs": [],
   "source": [
    "# 1 = accept, 2 = decline\n",
    "\n",
    "gesture1 = gesture1.drop(columns=['Unnamed: 0'])\n",
    "gesture2 = gesture2.drop(columns=['Unnamed: 0'])\n",
    "\n",
    "drop_zeros = gesture1.loc[(gesture1==0).any(1)].index\n",
    "gesture1 = gesture1.drop(drop_zeros, axis=0)\n",
    "gesture1= gesture1.reset_index(drop=True)\n",
    "\n",
    "drop_zeros = gesture2.loc[(gesture2==0).any(1)].index\n",
    "gesture2 = gesture2.drop(drop_zeros, axis=0)\n",
    "gesture2= gesture2.reset_index(drop=True)\n",
    "\n",
    "\n",
    "gesture1['label'] = 0\n",
    "gesture2['label'] = 1"
   ]
  },
  {
   "cell_type": "code",
   "execution_count": 185,
   "metadata": {},
   "outputs": [
    {
     "data": {
      "text/html": [
       "<div>\n",
       "<style scoped>\n",
       "    .dataframe tbody tr th:only-of-type {\n",
       "        vertical-align: middle;\n",
       "    }\n",
       "\n",
       "    .dataframe tbody tr th {\n",
       "        vertical-align: top;\n",
       "    }\n",
       "\n",
       "    .dataframe thead th {\n",
       "        text-align: right;\n",
       "    }\n",
       "</style>\n",
       "<table border=\"1\" class=\"dataframe\">\n",
       "  <thead>\n",
       "    <tr style=\"text-align: right;\">\n",
       "      <th></th>\n",
       "      <th>x</th>\n",
       "      <th>y</th>\n",
       "      <th>z</th>\n",
       "      <th>label</th>\n",
       "    </tr>\n",
       "  </thead>\n",
       "  <tbody>\n",
       "    <tr>\n",
       "      <td>0</td>\n",
       "      <td>-0.064209</td>\n",
       "      <td>0.028076</td>\n",
       "      <td>0.154785</td>\n",
       "      <td>0</td>\n",
       "    </tr>\n",
       "    <tr>\n",
       "      <td>1</td>\n",
       "      <td>-0.645020</td>\n",
       "      <td>-0.220459</td>\n",
       "      <td>0.068604</td>\n",
       "      <td>0</td>\n",
       "    </tr>\n",
       "    <tr>\n",
       "      <td>2</td>\n",
       "      <td>2.791260</td>\n",
       "      <td>-0.025879</td>\n",
       "      <td>0.772705</td>\n",
       "      <td>0</td>\n",
       "    </tr>\n",
       "    <tr>\n",
       "      <td>3</td>\n",
       "      <td>-0.729736</td>\n",
       "      <td>-0.090332</td>\n",
       "      <td>0.064453</td>\n",
       "      <td>0</td>\n",
       "    </tr>\n",
       "    <tr>\n",
       "      <td>4</td>\n",
       "      <td>-0.746582</td>\n",
       "      <td>-0.261719</td>\n",
       "      <td>0.439941</td>\n",
       "      <td>0</td>\n",
       "    </tr>\n",
       "    <tr>\n",
       "      <td>...</td>\n",
       "      <td>...</td>\n",
       "      <td>...</td>\n",
       "      <td>...</td>\n",
       "      <td>...</td>\n",
       "    </tr>\n",
       "    <tr>\n",
       "      <td>2985</td>\n",
       "      <td>2.043213</td>\n",
       "      <td>0.385010</td>\n",
       "      <td>-0.200928</td>\n",
       "      <td>0</td>\n",
       "    </tr>\n",
       "    <tr>\n",
       "      <td>2986</td>\n",
       "      <td>1.554932</td>\n",
       "      <td>-0.094482</td>\n",
       "      <td>-0.130371</td>\n",
       "      <td>0</td>\n",
       "    </tr>\n",
       "    <tr>\n",
       "      <td>2987</td>\n",
       "      <td>-0.460938</td>\n",
       "      <td>-0.301270</td>\n",
       "      <td>0.155762</td>\n",
       "      <td>0</td>\n",
       "    </tr>\n",
       "    <tr>\n",
       "      <td>2988</td>\n",
       "      <td>1.853760</td>\n",
       "      <td>0.293457</td>\n",
       "      <td>-0.322021</td>\n",
       "      <td>0</td>\n",
       "    </tr>\n",
       "    <tr>\n",
       "      <td>2989</td>\n",
       "      <td>1.347656</td>\n",
       "      <td>-0.093262</td>\n",
       "      <td>-0.074707</td>\n",
       "      <td>0</td>\n",
       "    </tr>\n",
       "  </tbody>\n",
       "</table>\n",
       "<p>2990 rows × 4 columns</p>\n",
       "</div>"
      ],
      "text/plain": [
       "             x         y         z  label\n",
       "0    -0.064209  0.028076  0.154785      0\n",
       "1    -0.645020 -0.220459  0.068604      0\n",
       "2     2.791260 -0.025879  0.772705      0\n",
       "3    -0.729736 -0.090332  0.064453      0\n",
       "4    -0.746582 -0.261719  0.439941      0\n",
       "...        ...       ...       ...    ...\n",
       "2985  2.043213  0.385010 -0.200928      0\n",
       "2986  1.554932 -0.094482 -0.130371      0\n",
       "2987 -0.460938 -0.301270  0.155762      0\n",
       "2988  1.853760  0.293457 -0.322021      0\n",
       "2989  1.347656 -0.093262 -0.074707      0\n",
       "\n",
       "[2990 rows x 4 columns]"
      ]
     },
     "execution_count": 185,
     "metadata": {},
     "output_type": "execute_result"
    }
   ],
   "source": [
    "gesture1"
   ]
  },
  {
   "cell_type": "code",
   "execution_count": 186,
   "metadata": {},
   "outputs": [],
   "source": [
    "gesture1 = gesture1.loc[:2980]\n",
    "gesture2 = gesture2.loc[:2470]\n",
    "\n",
    "dataset = gesture1.append(gesture2)\n",
    "\n",
    "dataset= dataset.reset_index(drop=True)"
   ]
  },
  {
   "cell_type": "markdown",
   "metadata": {},
   "source": [
    "### Preprocessing 1"
   ]
  },
  {
   "cell_type": "code",
   "execution_count": 187,
   "metadata": {},
   "outputs": [],
   "source": [
    "labels = dataset['label'].to_numpy()\n",
    "labels = labels[:-9:10]\n",
    "\n",
    "dataset = dataset[['x','y','z']]"
   ]
  },
  {
   "cell_type": "code",
   "execution_count": 188,
   "metadata": {},
   "outputs": [
    {
     "data": {
      "text/html": [
       "<div>\n",
       "<style scoped>\n",
       "    .dataframe tbody tr th:only-of-type {\n",
       "        vertical-align: middle;\n",
       "    }\n",
       "\n",
       "    .dataframe tbody tr th {\n",
       "        vertical-align: top;\n",
       "    }\n",
       "\n",
       "    .dataframe thead th {\n",
       "        text-align: right;\n",
       "    }\n",
       "</style>\n",
       "<table border=\"1\" class=\"dataframe\">\n",
       "  <thead>\n",
       "    <tr style=\"text-align: right;\">\n",
       "      <th></th>\n",
       "      <th>x</th>\n",
       "      <th>y</th>\n",
       "      <th>z</th>\n",
       "    </tr>\n",
       "  </thead>\n",
       "  <tbody>\n",
       "    <tr>\n",
       "      <td>0</td>\n",
       "      <td>-0.064209</td>\n",
       "      <td>0.028076</td>\n",
       "      <td>0.154785</td>\n",
       "    </tr>\n",
       "    <tr>\n",
       "      <td>1</td>\n",
       "      <td>-0.645020</td>\n",
       "      <td>-0.220459</td>\n",
       "      <td>0.068604</td>\n",
       "    </tr>\n",
       "    <tr>\n",
       "      <td>2</td>\n",
       "      <td>2.791260</td>\n",
       "      <td>-0.025879</td>\n",
       "      <td>0.772705</td>\n",
       "    </tr>\n",
       "    <tr>\n",
       "      <td>3</td>\n",
       "      <td>-0.729736</td>\n",
       "      <td>-0.090332</td>\n",
       "      <td>0.064453</td>\n",
       "    </tr>\n",
       "    <tr>\n",
       "      <td>4</td>\n",
       "      <td>-0.746582</td>\n",
       "      <td>-0.261719</td>\n",
       "      <td>0.439941</td>\n",
       "    </tr>\n",
       "    <tr>\n",
       "      <td>...</td>\n",
       "      <td>...</td>\n",
       "      <td>...</td>\n",
       "      <td>...</td>\n",
       "    </tr>\n",
       "    <tr>\n",
       "      <td>5447</td>\n",
       "      <td>-0.494141</td>\n",
       "      <td>-0.026123</td>\n",
       "      <td>0.815186</td>\n",
       "    </tr>\n",
       "    <tr>\n",
       "      <td>5448</td>\n",
       "      <td>0.570068</td>\n",
       "      <td>-0.179443</td>\n",
       "      <td>0.455078</td>\n",
       "    </tr>\n",
       "    <tr>\n",
       "      <td>5449</td>\n",
       "      <td>2.004395</td>\n",
       "      <td>-0.074951</td>\n",
       "      <td>-0.950439</td>\n",
       "    </tr>\n",
       "    <tr>\n",
       "      <td>5450</td>\n",
       "      <td>0.312500</td>\n",
       "      <td>-0.072021</td>\n",
       "      <td>0.212891</td>\n",
       "    </tr>\n",
       "    <tr>\n",
       "      <td>5451</td>\n",
       "      <td>0.654541</td>\n",
       "      <td>-0.077148</td>\n",
       "      <td>0.554199</td>\n",
       "    </tr>\n",
       "  </tbody>\n",
       "</table>\n",
       "<p>5452 rows × 3 columns</p>\n",
       "</div>"
      ],
      "text/plain": [
       "             x         y         z\n",
       "0    -0.064209  0.028076  0.154785\n",
       "1    -0.645020 -0.220459  0.068604\n",
       "2     2.791260 -0.025879  0.772705\n",
       "3    -0.729736 -0.090332  0.064453\n",
       "4    -0.746582 -0.261719  0.439941\n",
       "...        ...       ...       ...\n",
       "5447 -0.494141 -0.026123  0.815186\n",
       "5448  0.570068 -0.179443  0.455078\n",
       "5449  2.004395 -0.074951 -0.950439\n",
       "5450  0.312500 -0.072021  0.212891\n",
       "5451  0.654541 -0.077148  0.554199\n",
       "\n",
       "[5452 rows x 3 columns]"
      ]
     },
     "execution_count": 188,
     "metadata": {},
     "output_type": "execute_result"
    }
   ],
   "source": [
    "dataset"
   ]
  },
  {
   "cell_type": "code",
   "execution_count": 189,
   "metadata": {},
   "outputs": [
    {
     "data": {
      "text/plain": [
       "545"
      ]
     },
     "execution_count": 189,
     "metadata": {},
     "output_type": "execute_result"
    }
   ],
   "source": [
    "labels.size"
   ]
  },
  {
   "cell_type": "code",
   "execution_count": 190,
   "metadata": {},
   "outputs": [],
   "source": [
    "dataset = dataset.loc[:5450]"
   ]
  },
  {
   "cell_type": "code",
   "execution_count": 191,
   "metadata": {},
   "outputs": [
    {
     "data": {
      "text/html": [
       "<div>\n",
       "<style scoped>\n",
       "    .dataframe tbody tr th:only-of-type {\n",
       "        vertical-align: middle;\n",
       "    }\n",
       "\n",
       "    .dataframe tbody tr th {\n",
       "        vertical-align: top;\n",
       "    }\n",
       "\n",
       "    .dataframe thead th {\n",
       "        text-align: right;\n",
       "    }\n",
       "</style>\n",
       "<table border=\"1\" class=\"dataframe\">\n",
       "  <thead>\n",
       "    <tr style=\"text-align: right;\">\n",
       "      <th></th>\n",
       "      <th>x</th>\n",
       "      <th>y</th>\n",
       "      <th>z</th>\n",
       "    </tr>\n",
       "  </thead>\n",
       "  <tbody>\n",
       "    <tr>\n",
       "      <td>0</td>\n",
       "      <td>-0.064209</td>\n",
       "      <td>0.028076</td>\n",
       "      <td>0.154785</td>\n",
       "    </tr>\n",
       "    <tr>\n",
       "      <td>1</td>\n",
       "      <td>-0.645020</td>\n",
       "      <td>-0.220459</td>\n",
       "      <td>0.068604</td>\n",
       "    </tr>\n",
       "    <tr>\n",
       "      <td>2</td>\n",
       "      <td>2.791260</td>\n",
       "      <td>-0.025879</td>\n",
       "      <td>0.772705</td>\n",
       "    </tr>\n",
       "    <tr>\n",
       "      <td>3</td>\n",
       "      <td>-0.729736</td>\n",
       "      <td>-0.090332</td>\n",
       "      <td>0.064453</td>\n",
       "    </tr>\n",
       "    <tr>\n",
       "      <td>4</td>\n",
       "      <td>-0.746582</td>\n",
       "      <td>-0.261719</td>\n",
       "      <td>0.439941</td>\n",
       "    </tr>\n",
       "    <tr>\n",
       "      <td>...</td>\n",
       "      <td>...</td>\n",
       "      <td>...</td>\n",
       "      <td>...</td>\n",
       "    </tr>\n",
       "    <tr>\n",
       "      <td>5446</td>\n",
       "      <td>1.616211</td>\n",
       "      <td>-0.020020</td>\n",
       "      <td>-1.242920</td>\n",
       "    </tr>\n",
       "    <tr>\n",
       "      <td>5447</td>\n",
       "      <td>-0.494141</td>\n",
       "      <td>-0.026123</td>\n",
       "      <td>0.815186</td>\n",
       "    </tr>\n",
       "    <tr>\n",
       "      <td>5448</td>\n",
       "      <td>0.570068</td>\n",
       "      <td>-0.179443</td>\n",
       "      <td>0.455078</td>\n",
       "    </tr>\n",
       "    <tr>\n",
       "      <td>5449</td>\n",
       "      <td>2.004395</td>\n",
       "      <td>-0.074951</td>\n",
       "      <td>-0.950439</td>\n",
       "    </tr>\n",
       "    <tr>\n",
       "      <td>5450</td>\n",
       "      <td>0.312500</td>\n",
       "      <td>-0.072021</td>\n",
       "      <td>0.212891</td>\n",
       "    </tr>\n",
       "  </tbody>\n",
       "</table>\n",
       "<p>5451 rows × 3 columns</p>\n",
       "</div>"
      ],
      "text/plain": [
       "             x         y         z\n",
       "0    -0.064209  0.028076  0.154785\n",
       "1    -0.645020 -0.220459  0.068604\n",
       "2     2.791260 -0.025879  0.772705\n",
       "3    -0.729736 -0.090332  0.064453\n",
       "4    -0.746582 -0.261719  0.439941\n",
       "...        ...       ...       ...\n",
       "5446  1.616211 -0.020020 -1.242920\n",
       "5447 -0.494141 -0.026123  0.815186\n",
       "5448  0.570068 -0.179443  0.455078\n",
       "5449  2.004395 -0.074951 -0.950439\n",
       "5450  0.312500 -0.072021  0.212891\n",
       "\n",
       "[5451 rows x 3 columns]"
      ]
     },
     "execution_count": 191,
     "metadata": {},
     "output_type": "execute_result"
    }
   ],
   "source": [
    "dataset"
   ]
  },
  {
   "cell_type": "markdown",
   "metadata": {},
   "source": [
    "### Preprocessing 2"
   ]
  },
  {
   "cell_type": "code",
   "execution_count": 192,
   "metadata": {},
   "outputs": [],
   "source": [
    "frames = []\n",
    "def frame():\n",
    "    n=0\n",
    "    while n != len(dataset)-1:\n",
    "        frames.append(dataset.loc[n:n+1].to_numpy())\n",
    "        n += 1\n",
    "    else:\n",
    "        return frames\n"
   ]
  },
  {
   "cell_type": "code",
   "execution_count": 193,
   "metadata": {},
   "outputs": [],
   "source": [
    "gest_frames = frame()"
   ]
  },
  {
   "cell_type": "code",
   "execution_count": 194,
   "metadata": {},
   "outputs": [
    {
     "data": {
      "text/plain": [
       "5450"
      ]
     },
     "execution_count": 194,
     "metadata": {},
     "output_type": "execute_result"
    }
   ],
   "source": [
    "len(gest_frames)"
   ]
  },
  {
   "cell_type": "markdown",
   "metadata": {},
   "source": [
    "### Peprocessing 3 > FFT, feature extraction and feature vector "
   ]
  },
  {
   "cell_type": "code",
   "execution_count": 195,
   "metadata": {},
   "outputs": [],
   "source": [
    "def fft_transform(frame_data):\n",
    "    \n",
    "    fft_transform.feature_set = np.array([])\n",
    "    \n",
    "    for frame in frame_data:\n",
    "        \n",
    "        frame_feature_set = np.array([])\n",
    "        \n",
    "        fft_frame = np.fft.fft(frame, axis=0)\n",
    "#         fft_transform.fft_data.append(fft_frame)\n",
    "        \n",
    "#         n = frame.size\n",
    "#         freq = np.fft.fftfreq(n, d=0.01)\n",
    "#         fft_transform.fft_freq.append(freq)\n",
    "        \n",
    "#         fft_ps = np.abs(fft_frame)**2\n",
    "#         fft_transform.fft_power_spec.append(fft_ps)\n",
    "        \n",
    "        mean = np.mean(fft_frame, axis=0)\n",
    "        frame_feature_set = np.concatenate((frame_feature_set, mean), axis=0)\n",
    "        \n",
    "        \n",
    "        energy = (np.sum((fft_frame**2),axis=0))/len(fft_frame)\n",
    "        frame_feature_set = np.concatenate((frame_feature_set, energy), axis=0)\n",
    "        \n",
    "        \n",
    "        stdev = np.std(fft_frame, axis=0)\n",
    "        frame_feature_set = np.concatenate((frame_feature_set, stdev), axis=0)\n",
    "        \n",
    "        \n",
    "        correlation = np.corrcoef(fft_frame, rowvar=False).reshape(3,3)\n",
    "        frame_feature_set = np.concatenate((frame_feature_set.reshape(3,3), correlation), axis=0)\n",
    "        \n",
    "        fft_transform.feature_set = np.concatenate((frame_feature_set.flatten(), fft_transform.feature_set), axis=0)\n",
    "    \n",
    "#  make a simple array         \n",
    "\n",
    "    return fft_transform.feature_set"
   ]
  },
  {
   "cell_type": "code",
   "execution_count": 556,
   "metadata": {},
   "outputs": [
    {
     "data": {
      "text/plain": [
       "array([ 2.00439453+0.j, -0.07495117+0.j, -0.95043945+0.j, ...,\n",
       "       -1.        +0.j, -1.        +0.j,  1.        +0.j])"
      ]
     },
     "execution_count": 556,
     "metadata": {},
     "output_type": "execute_result"
    }
   ],
   "source": [
    "fft_transform(gest_frames)"
   ]
  },
  {
   "cell_type": "markdown",
   "metadata": {},
   "source": [
    "### Training data set "
   ]
  },
  {
   "cell_type": "code",
   "execution_count": 409,
   "metadata": {},
   "outputs": [],
   "source": [
    "n = int((fft_transform.feature_set.size)/180)\n",
    "axis = 3\n",
    "feature_10axis = 60\n",
    "fft_transform.feature_set = fft_transform.feature_set.reshape(n,(feature_10axis*axis))\n",
    "X = np.abs(fft_transform.feature_set)\n",
    "y = labels"
   ]
  },
  {
   "cell_type": "code",
   "execution_count": 410,
   "metadata": {},
   "outputs": [
    {
     "data": {
      "text/plain": [
       "(545,)"
      ]
     },
     "execution_count": 410,
     "metadata": {},
     "output_type": "execute_result"
    }
   ],
   "source": [
    "y.shape"
   ]
  },
  {
   "cell_type": "code",
   "execution_count": 551,
   "metadata": {},
   "outputs": [
    {
     "data": {
      "text/plain": [
       "array([0.8215332 , 0.01879883, 0.42553711, 3.43184626, 0.02356201,\n",
       "       0.58215171, 1.66040039, 0.15234375, 0.63330078, 1.        ,\n",
       "       1.        , 1.        , 1.        , 1.        , 1.        ,\n",
       "       1.        , 1.        , 1.        , 0.3737793 , 0.14208984,\n",
       "       0.16918945, 0.81462777, 0.02054292, 0.2097069 , 0.8215332 ,\n",
       "       0.01879883, 0.42553711, 1.        , 1.        , 1.        ,\n",
       "       1.        , 1.        , 1.        , 1.        , 1.        ,\n",
       "       1.        , 1.21655273, 0.30664062, 0.28100586, 1.61971152,\n",
       "       0.114218  , 0.10758936, 0.3737793 , 0.14208984, 0.16918945,\n",
       "       1.        , 1.        , 1.        , 1.        , 1.        ,\n",
       "       1.        , 1.        , 1.        , 1.        , 0.36889648,\n",
       "       0.15087891, 0.82226562, 1.61608517, 0.11679292, 0.75508505,\n",
       "       1.21655273, 0.30664062, 0.28100586, 1.        , 1.        ,\n",
       "       1.        , 1.        , 1.        , 1.        , 1.        ,\n",
       "       1.        , 1.        , 1.37353516, 0.12451172, 0.84106445,\n",
       "       2.02268344, 0.03826761, 1.38351017, 0.36889648, 0.15087891,\n",
       "       0.82226562, 1.        , 1.        , 1.        , 1.        ,\n",
       "       1.        , 1.        , 1.        , 1.        , 1.        ,\n",
       "       0.46337891, 0.23901367, 0.76220703, 2.10131884, 0.0726307 ,\n",
       "       1.28834897, 1.37353516, 0.12451172, 0.84106445, 1.        ,\n",
       "       1.        , 1.        , 1.        , 1.        , 1.        ,\n",
       "       1.        , 1.        , 1.        , 0.015625  , 0.24926758,\n",
       "       0.92602539, 0.21496415, 0.11926186, 1.43848258, 0.46337891,\n",
       "       0.23901367, 0.76220703, 1.        , 1.        , 1.        ,\n",
       "       1.        , 1.        , 1.        , 1.        , 1.        ,\n",
       "       1.        , 0.55200195, 0.08618164, 0.67602539, 0.3049503 ,\n",
       "       0.0695616 , 1.31453335, 0.015625  , 0.24926758, 0.92602539,\n",
       "       1.        , 1.        , 1.        , 1.        , 1.        ,\n",
       "       1.        , 1.        , 1.        , 1.        , 0.84106445,\n",
       "       0.31738281, 0.82592773, 1.01209557, 0.10815912, 1.13916695,\n",
       "       0.55200195, 0.08618164, 0.67602539, 1.        , 1.        ,\n",
       "       1.        , 1.        , 1.        , 1.        , 1.        ,\n",
       "       1.        , 1.        , 0.23852539, 0.36328125, 1.28979492,\n",
       "       0.76428378, 0.23270512, 2.34572756, 0.84106445, 0.31738281,\n",
       "       0.82592773, 1.        , 1.        , 1.        , 1.        ,\n",
       "       1.        , 1.        , 1.        , 1.        , 1.        ])"
      ]
     },
     "execution_count": 551,
     "metadata": {},
     "output_type": "execute_result"
    }
   ],
   "source": [
    "X[1]"
   ]
  },
  {
   "cell_type": "code",
   "execution_count": 541,
   "metadata": {},
   "outputs": [],
   "source": [
    "X_train, X_test, y_train, y_test = train_test_split(X, y, test_size=0.2)"
   ]
  },
  {
   "cell_type": "code",
   "execution_count": 542,
   "metadata": {},
   "outputs": [
    {
     "name": "stderr",
     "output_type": "stream",
     "text": [
      "/Users/martinantos/opt/anaconda3/lib/python3.7/site-packages/sklearn/svm/base.py:193: FutureWarning: The default value of gamma will change from 'auto' to 'scale' in version 0.22 to account better for unscaled features. Set gamma explicitly to 'auto' or 'scale' to avoid this warning.\n",
      "  \"avoid this warning.\", FutureWarning)\n"
     ]
    },
    {
     "data": {
      "text/plain": [
       "SVC(C=0.1, cache_size=200, class_weight=None, coef0=0.0,\n",
       "    decision_function_shape='ovr', degree=3, gamma='auto_deprecated',\n",
       "    kernel='poly', max_iter=-1, probability=True, random_state=None,\n",
       "    shrinking=True, tol=0.001, verbose=False)"
      ]
     },
     "execution_count": 542,
     "metadata": {},
     "output_type": "execute_result"
    }
   ],
   "source": [
    "C = 0.1\n",
    "clf = svm.SVC(kernel='poly',C=C, probability=True)\n",
    "clf.fit(X_train, y_train)"
   ]
  },
  {
   "cell_type": "code",
   "execution_count": 543,
   "metadata": {},
   "outputs": [],
   "source": [
    "with open('/Users/martinantos/Documents/school/IoT/Panache/clf.pickle', 'wb') as f:\n",
    "    pickle.dump(clf, f)"
   ]
  },
  {
   "cell_type": "code",
   "execution_count": 544,
   "metadata": {},
   "outputs": [],
   "source": [
    "model = pickle.dumps(clf)"
   ]
  },
  {
   "cell_type": "code",
   "execution_count": 545,
   "metadata": {},
   "outputs": [],
   "source": [
    "# clftest = pickle.loads(model)"
   ]
  },
  {
   "cell_type": "code",
   "execution_count": 546,
   "metadata": {},
   "outputs": [],
   "source": [
    "# clftest.predict(X.reshape(1,-1))"
   ]
  },
  {
   "cell_type": "code",
   "execution_count": 547,
   "metadata": {},
   "outputs": [],
   "source": [
    "y_pred = clf.predict(X_test)"
   ]
  },
  {
   "cell_type": "code",
   "execution_count": 548,
   "metadata": {},
   "outputs": [
    {
     "name": "stdout",
     "output_type": "stream",
     "text": [
      "accuracy: 0.9541284403669725\n",
      "Precision: 0.9056603773584906\n",
      "Recall: 1.0\n"
     ]
    }
   ],
   "source": [
    "print(\"accuracy:\", metrics.accuracy_score(y_test, y_pred))\n",
    "print(\"Precision:\",metrics.precision_score(y_test, y_pred))\n",
    "print(\"Recall:\",metrics.recall_score(y_test, y_pred))"
   ]
  },
  {
   "cell_type": "code",
   "execution_count": 511,
   "metadata": {},
   "outputs": [],
   "source": [
    "# 1 = accetpt, \n",
    "def clfout(sample):\n",
    "    sample = sample.reshape(1,-1)\n",
    "    if clf.decision_function(sample) <=(-1.2):\n",
    "        return 1\n",
    "    elif clf.decision_function(sample) >= 1.0:\n",
    "        return 2 \n",
    "    else:\n",
    "        return 0"
   ]
  },
  {
   "cell_type": "code",
   "execution_count": 525,
   "metadata": {},
   "outputs": [
    {
     "data": {
      "text/plain": [
       "2"
      ]
     },
     "execution_count": 525,
     "metadata": {},
     "output_type": "execute_result"
    }
   ],
   "source": [
    "clfout(X[356])"
   ]
  },
  {
   "cell_type": "code",
   "execution_count": 510,
   "metadata": {},
   "outputs": [
    {
     "data": {
      "text/plain": [
       "5.006824207538445"
      ]
     },
     "execution_count": 510,
     "metadata": {},
     "output_type": "execute_result"
    }
   ],
   "source": [
    "clf.decision_function(X).max()"
   ]
  },
  {
   "cell_type": "code",
   "execution_count": 504,
   "metadata": {},
   "outputs": [
    {
     "data": {
      "text/plain": [
       "array([-1.00013704, -1.36967167, -1.29377807, -2.00024957, -1.07263898,\n",
       "       -1.02405042, -1.97569432, -2.05931219, -1.29023245, -1.42848515,\n",
       "       -1.42992087, -0.8875324 , -1.71344709, -1.60367419, -1.90991305,\n",
       "       -0.97405165, -1.97302585, -1.40037917, -1.36782399, -1.80207238,\n",
       "       -1.56918316, -0.79874479, -1.52952697, -1.54467402, -2.10057753,\n",
       "       -0.81397593, -2.17558273, -1.78192584, -1.88861074, -1.56609852,\n",
       "       -1.05444061, -0.99994218, -1.53095592, -1.00038054, -1.77572437,\n",
       "       -1.47920484, -1.28055973, -1.5533746 , -2.6023298 , -1.09390969,\n",
       "       -2.36064849, -1.00013704, -1.36967167, -1.29377807, -2.00024957,\n",
       "       -1.07263898, -1.02405042, -1.97569432, -2.05931219, -1.29023245,\n",
       "       -2.27437666, -1.00013704, -1.36967167, -1.29377807, -2.00024957,\n",
       "       -1.07263898, -1.02405042, -1.97569432, -2.05931219, -1.29023245,\n",
       "       -1.93410539, -1.78060517, -2.00065274, -2.49952814, -2.33225689,\n",
       "       -3.70645188, -2.78580244, -1.30455404, -2.7221272 , -2.12076444,\n",
       "       -2.21912889, -1.23659576, -2.44363824, -2.56705172, -1.52709974,\n",
       "       -4.47769666, -2.66462315, -1.4920096 , -2.30529746, -2.38928393,\n",
       "       -1.67715064, -2.80155993, -2.5261451 , -1.84645573, -2.06408245,\n",
       "       -3.07178138, -4.00114888, -2.70672516, -0.96309108, -3.06804244,\n",
       "       -1.84047164, -1.81149514, -1.08845336, -3.27101209, -2.09221121,\n",
       "       -2.01149516, -2.54233419, -3.0183574 , -0.9999683 , -2.23266599,\n",
       "       -2.07896999, -2.26510765, -1.00017793, -2.42045729, -2.64637193,\n",
       "       -1.80723918, -4.2699122 , -1.67101292, -2.02059347, -2.40478304,\n",
       "       -1.8672152 , -2.21687055, -1.0440952 , -2.44363824, -2.56705172,\n",
       "       -1.52709974, -4.47769666, -2.66462315, -1.4920096 , -2.30529746,\n",
       "       -2.38928393, -1.67715064, -2.51762167, -2.44363824, -2.56705172,\n",
       "       -1.52709974, -4.47769666, -2.66462315, -1.4920096 , -2.30529746,\n",
       "       -2.38928393, -1.67715064, -3.0249974 , -3.10887885, -3.39902629,\n",
       "       -3.48294185, -3.69584411, -3.81433025, -4.39886863, -3.30392489,\n",
       "       -2.81808352, -3.87147123, -4.72655851, -5.79640223, -3.45438779,\n",
       "       -4.25981881, -2.81584676, -3.53823903, -3.41739343, -5.53272975,\n",
       "       -2.58198767, -3.95308405, -3.01509452, -6.58575593, -5.74201157,\n",
       "       -5.364558  , -3.01023778, -2.71556967, -3.59722803, -3.89133405,\n",
       "       -4.23893666, -2.17108644, -4.11652569, -3.19891419, -7.48281819,\n",
       "       -2.73399668, -4.08696652, -3.40162135, -3.11193176, -3.83973217,\n",
       "       -4.31811536, -2.56483111, -2.26284755, -4.79570663, -3.80389732,\n",
       "       -4.97520915, -5.10830337, -3.10087707, -2.87445787, -3.33561206,\n",
       "       -4.77135478, -3.992334  , -1.37220613, -5.29239904, -3.74909723,\n",
       "       -7.84691775, -3.22943607, -3.39902629, -3.48294185, -3.69584411,\n",
       "       -3.81433025, -4.39886863, -3.30392489, -2.81808352, -3.87147123,\n",
       "       -4.72655851, -6.61465577, -3.09295594, -2.9641984 , -2.86985116,\n",
       "       -3.23740432, -4.2754876 , -4.78702744, -2.33077616, -4.25006955,\n",
       "       -4.63960782, -5.79053406, -5.364558  , -3.01023778, -2.71556967,\n",
       "       -3.59722803, -3.89133405, -4.23893666, -2.17108644, -4.11652569,\n",
       "       -3.19891419, -7.61491142, -5.10830337, -3.10087707, -2.87445787,\n",
       "       -3.33561206, -4.77135478, -3.992334  , -1.37220613, -5.29239904,\n",
       "       -3.74909723, -7.84691775, -4.81154169, -3.10087707, -2.87445787,\n",
       "       -3.33561206, -4.77135478, -3.992334  , -1.37220613, -5.29239904,\n",
       "       -3.74909723, -7.84691775, -4.93281694, -3.01023778, -2.71556967,\n",
       "       -3.59722803, -3.89133405, -4.23893666, -2.17108644, -4.11652569,\n",
       "       -3.19891419, -7.31436215,  1.25036668,  0.99309533,  1.00027133,\n",
       "        1.22584745,  0.87486833,  1.06268488,  1.16986297,  0.87958023,\n",
       "        0.51388936,  1.27644774,  1.60295914,  0.8793972 ,  0.90561915,\n",
       "        1.02739087,  1.28492943,  0.9415105 ,  0.95865408,  0.7451367 ,\n",
       "        0.80882655,  0.4660598 ,  1.54149529,  0.95461845,  1.10500859,\n",
       "        0.98014958,  1.23009483,  0.72629438,  1.01944116,  0.99462893,\n",
       "        0.71062624,  0.99655457,  1.14543225,  1.51112347,  1.11360791,\n",
       "        0.85644311,  1.11392855,  1.13275446,  1.22808009,  1.03151099,\n",
       "        0.71225921,  0.97608957,  1.01833432,  1.25036668,  0.99309533,\n",
       "        1.00027133,  1.22584745,  0.87486833,  1.06268488,  1.16986297,\n",
       "        0.87958023,  0.51388936,  0.92205492,  1.25036668,  0.99309533,\n",
       "        1.00027133,  1.22584745,  0.87486833,  1.06268488,  1.16986297,\n",
       "        0.87958023,  0.51388936,  0.66806313,  0.69740884,  0.83747603,\n",
       "        0.79928022,  0.9259202 ,  0.99993573,  0.98625193,  0.74172251,\n",
       "        1.00024228,  0.99963813,  1.13457895,  0.88613499,  0.820179  ,\n",
       "        1.09781156,  0.80356958,  0.91168451,  0.89232746,  0.74732665,\n",
       "        0.9999621 ,  1.48060423,  1.02833538,  0.65061691,  0.72898864,\n",
       "        1.03910818,  0.86183035,  1.00008164,  0.99992557,  0.73574711,\n",
       "        1.11292913,  0.94007718,  1.00018196,  1.18413474,  0.87214766,\n",
       "        0.97491238,  0.99971598,  0.90820134,  1.02720909,  0.98864579,\n",
       "        0.72576995,  1.02422994,  1.11608783,  0.99977901,  0.87214766,\n",
       "        0.97491238,  0.99971598,  0.90820134,  1.02720909,  0.98864579,\n",
       "        0.72576995,  1.02422994,  1.11608783,  1.00056861,  1.00011859,\n",
       "        0.67380074,  1.0036072 ,  1.13504425,  1.26866737,  1.15502013,\n",
       "        0.62611678,  0.94840227,  1.17888915,  1.11561268,  1.09055478,\n",
       "        1.06290921,  1.00008643,  1.05516116,  1.21406305,  1.0979358 ,\n",
       "        1.24967591,  0.99999354,  1.07430373,  1.64747557,  0.99985776,\n",
       "        0.92601426,  1.00036572,  1.27443774,  1.17469806,  1.37380454,\n",
       "        1.33106886,  0.89989416,  0.96630708,  1.11679874,  1.41575528,\n",
       "        1.00058542,  1.08416906,  1.00998338,  1.21985664,  1.17813597,\n",
       "        1.25750445,  1.23982362,  1.11471789,  1.09282973,  1.48710835,\n",
       "        1.03497661,  1.20530778,  1.03928927,  1.03643976,  1.18310276,\n",
       "        1.18593445,  0.98382031,  0.93162393,  1.14647265,  1.00012421,\n",
       "        0.80277566,  1.06290921,  1.00008643,  1.05516116,  1.21406305,\n",
       "        1.0979358 ,  1.24967591,  0.99999354,  1.07430373,  1.64747557,\n",
       "        1.14922184,  1.06290921,  1.00008643,  1.05516116,  1.21406305,\n",
       "        1.0979358 ,  1.24967591,  0.99999354,  1.07430373,  1.64747557,\n",
       "        0.99965617,  1.41188899,  1.1009393 ,  1.26335787,  1.3616155 ,\n",
       "        1.00041197,  1.0741544 ,  1.21834408,  1.21069561,  1.40890539,\n",
       "        1.70440069,  0.62180472,  1.572329  ,  1.38297533,  1.1163615 ,\n",
       "        1.26125945,  1.27352676,  1.31148002,  1.26165633,  1.10116643,\n",
       "        1.00237591,  1.34081157,  0.79573884,  1.65689921,  1.43104363,\n",
       "        1.43340541,  1.4609167 ,  1.34965054,  1.36385217,  1.54495215,\n",
       "        0.99963601,  1.00002016,  1.11959102,  1.28055279,  1.62566634,\n",
       "        1.23001883,  1.11034607,  1.21478419,  1.39415618,  1.19043455,\n",
       "        1.33457556,  1.17618053,  1.32593856,  0.94402472,  1.15658504,\n",
       "        1.00016152,  1.48516114,  1.00060343,  1.36140214,  1.11400099,\n",
       "        1.1066366 ,  1.00513882,  1.17771377,  1.51977578,  1.50669207,\n",
       "        1.1009393 ,  1.26335787,  1.3616155 ,  1.00041197,  1.0741544 ,\n",
       "        1.21834408,  1.21069561,  1.40890539,  1.70440069,  0.77952871,\n",
       "        1.00002924,  1.91722369,  1.55275041,  1.04227254,  1.44512945,\n",
       "        1.09496819,  1.04337299,  1.44079842,  1.49592617,  1.14763566,\n",
       "        1.65689921,  1.43104363,  1.43340541,  1.4609167 ,  1.34965054,\n",
       "        1.36385217,  1.54495215,  0.99963601,  1.00002016,  1.11959102,\n",
       "        1.6421746 ,  1.43104363,  1.43340541,  1.4609167 ,  1.34965054,\n",
       "        1.36385217,  1.54495215,  0.99963601,  1.00002016,  1.11959102,\n",
       "        1.17007109,  1.00016152,  1.48516114,  1.00060343,  1.36140214,\n",
       "        1.11400099,  1.1066366 ,  1.00513882,  1.17771377,  1.51977578,\n",
       "        1.64048297,  1.43104363,  1.43340541,  1.4609167 ,  1.34965054,\n",
       "        1.36385217,  1.54495215,  0.99963601,  1.00002016,  1.11959102])"
      ]
     },
     "execution_count": 504,
     "metadata": {},
     "output_type": "execute_result"
    }
   ],
   "source": [
    "clf.decision_function(X)"
   ]
  },
  {
   "cell_type": "code",
   "execution_count": 405,
   "metadata": {},
   "outputs": [
    {
     "data": {
      "text/plain": [
       "array([0])"
      ]
     },
     "execution_count": 405,
     "metadata": {},
     "output_type": "execute_result"
    }
   ],
   "source": [
    "clf.predict(X[65].reshape(1,-1))"
   ]
  },
  {
   "cell_type": "code",
   "execution_count": 406,
   "metadata": {},
   "outputs": [
    {
     "data": {
      "text/plain": [
       "array([-2.35995993])"
      ]
     },
     "execution_count": 406,
     "metadata": {},
     "output_type": "execute_result"
    }
   ],
   "source": [
    "\n",
    "clf.decision_function(X[65].reshape(1,-1))"
   ]
  }
 ],
 "metadata": {
  "kernelspec": {
   "display_name": "Python 3",
   "language": "python",
   "name": "python3"
  },
  "language_info": {
   "codemirror_mode": {
    "name": "ipython",
    "version": 3
   },
   "file_extension": ".py",
   "mimetype": "text/x-python",
   "name": "python",
   "nbconvert_exporter": "python",
   "pygments_lexer": "ipython3",
   "version": "3.7.4"
  }
 },
 "nbformat": 4,
 "nbformat_minor": 4
}
