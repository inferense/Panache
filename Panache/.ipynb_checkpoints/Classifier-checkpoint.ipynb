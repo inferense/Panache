{
 "cells": [
  {
   "cell_type": "code",
   "execution_count": 125,
   "metadata": {},
   "outputs": [],
   "source": [
    "import pandas as pd\n",
    "import matplotlib.pyplot as plt \n",
    "import numpy as np \n",
    "%matplotlib inline\n",
    "from sklearn import svm\n",
    "from sklearn.model_selection import train_test_split\n",
    "from sklearn import metrics\n",
    "\n",
    "import requests"
   ]
  },
  {
   "cell_type": "code",
   "execution_count": 199,
   "metadata": {},
   "outputs": [],
   "source": [
    "data = pd.read_csv('http://3e9387c7.ngrok.io/get_data')"
   ]
  },
  {
   "cell_type": "code",
   "execution_count": 200,
   "metadata": {},
   "outputs": [
    {
     "data": {
      "text/html": [
       "<div>\n",
       "<style scoped>\n",
       "    .dataframe tbody tr th:only-of-type {\n",
       "        vertical-align: middle;\n",
       "    }\n",
       "\n",
       "    .dataframe tbody tr th {\n",
       "        vertical-align: top;\n",
       "    }\n",
       "\n",
       "    .dataframe thead th {\n",
       "        text-align: right;\n",
       "    }\n",
       "</style>\n",
       "<table border=\"1\" class=\"dataframe\">\n",
       "  <thead>\n",
       "    <tr style=\"text-align: right;\">\n",
       "      <th></th>\n",
       "      <th>x</th>\n",
       "      <th>y</th>\n",
       "      <th>z</th>\n",
       "    </tr>\n",
       "  </thead>\n",
       "  <tbody>\n",
       "    <tr>\n",
       "      <td>0</td>\n",
       "      <td>0.000000</td>\n",
       "      <td>0.000000</td>\n",
       "      <td>0.000000</td>\n",
       "    </tr>\n",
       "    <tr>\n",
       "      <td>1</td>\n",
       "      <td>-0.628174</td>\n",
       "      <td>0.007812</td>\n",
       "      <td>0.618164</td>\n",
       "    </tr>\n",
       "    <tr>\n",
       "      <td>2</td>\n",
       "      <td>-0.294922</td>\n",
       "      <td>-0.438721</td>\n",
       "      <td>1.981689</td>\n",
       "    </tr>\n",
       "    <tr>\n",
       "      <td>3</td>\n",
       "      <td>2.098877</td>\n",
       "      <td>0.306885</td>\n",
       "      <td>-2.428223</td>\n",
       "    </tr>\n",
       "    <tr>\n",
       "      <td>4</td>\n",
       "      <td>-1.146240</td>\n",
       "      <td>-0.264648</td>\n",
       "      <td>1.073242</td>\n",
       "    </tr>\n",
       "    <tr>\n",
       "      <td>...</td>\n",
       "      <td>...</td>\n",
       "      <td>...</td>\n",
       "      <td>...</td>\n",
       "    </tr>\n",
       "    <tr>\n",
       "      <td>2486</td>\n",
       "      <td>1.328857</td>\n",
       "      <td>-0.136475</td>\n",
       "      <td>-0.475586</td>\n",
       "    </tr>\n",
       "    <tr>\n",
       "      <td>2487</td>\n",
       "      <td>-0.407471</td>\n",
       "      <td>-0.293701</td>\n",
       "      <td>1.142578</td>\n",
       "    </tr>\n",
       "    <tr>\n",
       "      <td>2488</td>\n",
       "      <td>1.362793</td>\n",
       "      <td>-0.244873</td>\n",
       "      <td>-0.478760</td>\n",
       "    </tr>\n",
       "    <tr>\n",
       "      <td>2489</td>\n",
       "      <td>-0.398193</td>\n",
       "      <td>-0.047607</td>\n",
       "      <td>0.041016</td>\n",
       "    </tr>\n",
       "    <tr>\n",
       "      <td>2490</td>\n",
       "      <td>0.744873</td>\n",
       "      <td>0.087402</td>\n",
       "      <td>0.654785</td>\n",
       "    </tr>\n",
       "  </tbody>\n",
       "</table>\n",
       "<p>2491 rows × 3 columns</p>\n",
       "</div>"
      ],
      "text/plain": [
       "             x         y         z\n",
       "0     0.000000  0.000000  0.000000\n",
       "1    -0.628174  0.007812  0.618164\n",
       "2    -0.294922 -0.438721  1.981689\n",
       "3     2.098877  0.306885 -2.428223\n",
       "4    -1.146240 -0.264648  1.073242\n",
       "...        ...       ...       ...\n",
       "2486  1.328857 -0.136475 -0.475586\n",
       "2487 -0.407471 -0.293701  1.142578\n",
       "2488  1.362793 -0.244873 -0.478760\n",
       "2489 -0.398193 -0.047607  0.041016\n",
       "2490  0.744873  0.087402  0.654785\n",
       "\n",
       "[2491 rows x 3 columns]"
      ]
     },
     "execution_count": 200,
     "metadata": {},
     "output_type": "execute_result"
    }
   ],
   "source": [
    "data"
   ]
  },
  {
   "cell_type": "code",
   "execution_count": 201,
   "metadata": {},
   "outputs": [],
   "source": [
    "# data.to_csv('gesture_decline.csv')"
   ]
  },
  {
   "cell_type": "code",
   "execution_count": 205,
   "metadata": {},
   "outputs": [],
   "source": [
    "gesture1 = pd.read_csv('gesture_accept.csv')\n",
    "gesture2 = pd.read_csv('gesture_decline.csv')"
   ]
  },
  {
   "cell_type": "markdown",
   "metadata": {},
   "source": [
    "#### training data prepocessing "
   ]
  },
  {
   "cell_type": "code",
   "execution_count": 207,
   "metadata": {},
   "outputs": [
    {
     "data": {
      "text/html": [
       "<div>\n",
       "<style scoped>\n",
       "    .dataframe tbody tr th:only-of-type {\n",
       "        vertical-align: middle;\n",
       "    }\n",
       "\n",
       "    .dataframe tbody tr th {\n",
       "        vertical-align: top;\n",
       "    }\n",
       "\n",
       "    .dataframe thead th {\n",
       "        text-align: right;\n",
       "    }\n",
       "</style>\n",
       "<table border=\"1\" class=\"dataframe\">\n",
       "  <thead>\n",
       "    <tr style=\"text-align: right;\">\n",
       "      <th></th>\n",
       "      <th>Unnamed: 0</th>\n",
       "      <th>x</th>\n",
       "      <th>y</th>\n",
       "      <th>z</th>\n",
       "    </tr>\n",
       "  </thead>\n",
       "  <tbody>\n",
       "    <tr>\n",
       "      <td>0</td>\n",
       "      <td>0</td>\n",
       "      <td>0.000000</td>\n",
       "      <td>0.000000</td>\n",
       "      <td>0.000000</td>\n",
       "    </tr>\n",
       "    <tr>\n",
       "      <td>1</td>\n",
       "      <td>1</td>\n",
       "      <td>-0.628174</td>\n",
       "      <td>0.007812</td>\n",
       "      <td>0.618164</td>\n",
       "    </tr>\n",
       "    <tr>\n",
       "      <td>2</td>\n",
       "      <td>2</td>\n",
       "      <td>-0.294922</td>\n",
       "      <td>-0.438721</td>\n",
       "      <td>1.981689</td>\n",
       "    </tr>\n",
       "    <tr>\n",
       "      <td>3</td>\n",
       "      <td>3</td>\n",
       "      <td>2.098877</td>\n",
       "      <td>0.306885</td>\n",
       "      <td>-2.428223</td>\n",
       "    </tr>\n",
       "    <tr>\n",
       "      <td>4</td>\n",
       "      <td>4</td>\n",
       "      <td>-1.146240</td>\n",
       "      <td>-0.264648</td>\n",
       "      <td>1.073242</td>\n",
       "    </tr>\n",
       "    <tr>\n",
       "      <td>...</td>\n",
       "      <td>...</td>\n",
       "      <td>...</td>\n",
       "      <td>...</td>\n",
       "      <td>...</td>\n",
       "    </tr>\n",
       "    <tr>\n",
       "      <td>2486</td>\n",
       "      <td>2486</td>\n",
       "      <td>1.328857</td>\n",
       "      <td>-0.136475</td>\n",
       "      <td>-0.475586</td>\n",
       "    </tr>\n",
       "    <tr>\n",
       "      <td>2487</td>\n",
       "      <td>2487</td>\n",
       "      <td>-0.407471</td>\n",
       "      <td>-0.293701</td>\n",
       "      <td>1.142578</td>\n",
       "    </tr>\n",
       "    <tr>\n",
       "      <td>2488</td>\n",
       "      <td>2488</td>\n",
       "      <td>1.362793</td>\n",
       "      <td>-0.244873</td>\n",
       "      <td>-0.478760</td>\n",
       "    </tr>\n",
       "    <tr>\n",
       "      <td>2489</td>\n",
       "      <td>2489</td>\n",
       "      <td>-0.398193</td>\n",
       "      <td>-0.047607</td>\n",
       "      <td>0.041016</td>\n",
       "    </tr>\n",
       "    <tr>\n",
       "      <td>2490</td>\n",
       "      <td>2490</td>\n",
       "      <td>0.744873</td>\n",
       "      <td>0.087402</td>\n",
       "      <td>0.654785</td>\n",
       "    </tr>\n",
       "  </tbody>\n",
       "</table>\n",
       "<p>2491 rows × 4 columns</p>\n",
       "</div>"
      ],
      "text/plain": [
       "      Unnamed: 0         x         y         z\n",
       "0              0  0.000000  0.000000  0.000000\n",
       "1              1 -0.628174  0.007812  0.618164\n",
       "2              2 -0.294922 -0.438721  1.981689\n",
       "3              3  2.098877  0.306885 -2.428223\n",
       "4              4 -1.146240 -0.264648  1.073242\n",
       "...          ...       ...       ...       ...\n",
       "2486        2486  1.328857 -0.136475 -0.475586\n",
       "2487        2487 -0.407471 -0.293701  1.142578\n",
       "2488        2488  1.362793 -0.244873 -0.478760\n",
       "2489        2489 -0.398193 -0.047607  0.041016\n",
       "2490        2490  0.744873  0.087402  0.654785\n",
       "\n",
       "[2491 rows x 4 columns]"
      ]
     },
     "execution_count": 207,
     "metadata": {},
     "output_type": "execute_result"
    }
   ],
   "source": [
    "gesture2"
   ]
  },
  {
   "cell_type": "code",
   "execution_count": 208,
   "metadata": {},
   "outputs": [],
   "source": [
    "# 1 = accept, 2 = decline\n",
    "\n",
    "gesture1 = gesture1.drop(columns=['Unnamed: 0'])\n",
    "gesture2 = gesture2.drop(columns=['Unnamed: 0'])\n",
    "\n",
    "gesture1['label'] = 1\n",
    "gesture2['label'] = 2\n",
    "\n",
    "gesture1 = gesture1.loc[:3000]\n",
    "gesture2 = gesture2.loc[:2490]\n",
    "\n",
    "dataset = gesture1.append(gesture2)"
   ]
  },
  {
   "cell_type": "markdown",
   "metadata": {},
   "source": [
    "### Preprocessing 1"
   ]
  },
  {
   "cell_type": "code",
   "execution_count": 211,
   "metadata": {},
   "outputs": [],
   "source": [
    "drop_zeros = dataset.loc[(dataset==0).any(1)].index\n",
    "dataset = dataset.drop(drop_zeros, axis=0)\n",
    "dataset = dataset.reset_index(drop=True)\n",
    "\n",
    "labels = dataset['label'].to_numpy()\n",
    "labels = labels[:-10:10]\n",
    "\n",
    "dataset = dataset[['x','y','z']]"
   ]
  },
  {
   "cell_type": "code",
   "execution_count": 214,
   "metadata": {},
   "outputs": [
    {
     "data": {
      "text/plain": [
       "546"
      ]
     },
     "execution_count": 214,
     "metadata": {},
     "output_type": "execute_result"
    }
   ],
   "source": [
    "labels.size"
   ]
  },
  {
   "cell_type": "code",
   "execution_count": 215,
   "metadata": {},
   "outputs": [
    {
     "data": {
      "text/html": [
       "<div>\n",
       "<style scoped>\n",
       "    .dataframe tbody tr th:only-of-type {\n",
       "        vertical-align: middle;\n",
       "    }\n",
       "\n",
       "    .dataframe tbody tr th {\n",
       "        vertical-align: top;\n",
       "    }\n",
       "\n",
       "    .dataframe thead th {\n",
       "        text-align: right;\n",
       "    }\n",
       "</style>\n",
       "<table border=\"1\" class=\"dataframe\">\n",
       "  <thead>\n",
       "    <tr style=\"text-align: right;\">\n",
       "      <th></th>\n",
       "      <th>x</th>\n",
       "      <th>y</th>\n",
       "      <th>z</th>\n",
       "    </tr>\n",
       "  </thead>\n",
       "  <tbody>\n",
       "    <tr>\n",
       "      <td>0</td>\n",
       "      <td>-0.064209</td>\n",
       "      <td>0.028076</td>\n",
       "      <td>0.154785</td>\n",
       "    </tr>\n",
       "    <tr>\n",
       "      <td>1</td>\n",
       "      <td>-0.645020</td>\n",
       "      <td>-0.220459</td>\n",
       "      <td>0.068604</td>\n",
       "    </tr>\n",
       "    <tr>\n",
       "      <td>2</td>\n",
       "      <td>2.791260</td>\n",
       "      <td>-0.025879</td>\n",
       "      <td>0.772705</td>\n",
       "    </tr>\n",
       "    <tr>\n",
       "      <td>3</td>\n",
       "      <td>-0.729736</td>\n",
       "      <td>-0.090332</td>\n",
       "      <td>0.064453</td>\n",
       "    </tr>\n",
       "    <tr>\n",
       "      <td>4</td>\n",
       "      <td>-0.746582</td>\n",
       "      <td>-0.261719</td>\n",
       "      <td>0.439941</td>\n",
       "    </tr>\n",
       "    <tr>\n",
       "      <td>...</td>\n",
       "      <td>...</td>\n",
       "      <td>...</td>\n",
       "      <td>...</td>\n",
       "    </tr>\n",
       "    <tr>\n",
       "      <td>5463</td>\n",
       "      <td>1.328857</td>\n",
       "      <td>-0.136475</td>\n",
       "      <td>-0.475586</td>\n",
       "    </tr>\n",
       "    <tr>\n",
       "      <td>5464</td>\n",
       "      <td>-0.407471</td>\n",
       "      <td>-0.293701</td>\n",
       "      <td>1.142578</td>\n",
       "    </tr>\n",
       "    <tr>\n",
       "      <td>5465</td>\n",
       "      <td>1.362793</td>\n",
       "      <td>-0.244873</td>\n",
       "      <td>-0.478760</td>\n",
       "    </tr>\n",
       "    <tr>\n",
       "      <td>5466</td>\n",
       "      <td>-0.398193</td>\n",
       "      <td>-0.047607</td>\n",
       "      <td>0.041016</td>\n",
       "    </tr>\n",
       "    <tr>\n",
       "      <td>5467</td>\n",
       "      <td>0.744873</td>\n",
       "      <td>0.087402</td>\n",
       "      <td>0.654785</td>\n",
       "    </tr>\n",
       "  </tbody>\n",
       "</table>\n",
       "<p>5468 rows × 3 columns</p>\n",
       "</div>"
      ],
      "text/plain": [
       "             x         y         z\n",
       "0    -0.064209  0.028076  0.154785\n",
       "1    -0.645020 -0.220459  0.068604\n",
       "2     2.791260 -0.025879  0.772705\n",
       "3    -0.729736 -0.090332  0.064453\n",
       "4    -0.746582 -0.261719  0.439941\n",
       "...        ...       ...       ...\n",
       "5463  1.328857 -0.136475 -0.475586\n",
       "5464 -0.407471 -0.293701  1.142578\n",
       "5465  1.362793 -0.244873 -0.478760\n",
       "5466 -0.398193 -0.047607  0.041016\n",
       "5467  0.744873  0.087402  0.654785\n",
       "\n",
       "[5468 rows x 3 columns]"
      ]
     },
     "execution_count": 215,
     "metadata": {},
     "output_type": "execute_result"
    }
   ],
   "source": [
    "dataset"
   ]
  },
  {
   "cell_type": "code",
   "execution_count": 216,
   "metadata": {},
   "outputs": [],
   "source": [
    "dataset = dataset.loc[:5460]"
   ]
  },
  {
   "cell_type": "code",
   "execution_count": 217,
   "metadata": {},
   "outputs": [
    {
     "data": {
      "text/html": [
       "<div>\n",
       "<style scoped>\n",
       "    .dataframe tbody tr th:only-of-type {\n",
       "        vertical-align: middle;\n",
       "    }\n",
       "\n",
       "    .dataframe tbody tr th {\n",
       "        vertical-align: top;\n",
       "    }\n",
       "\n",
       "    .dataframe thead th {\n",
       "        text-align: right;\n",
       "    }\n",
       "</style>\n",
       "<table border=\"1\" class=\"dataframe\">\n",
       "  <thead>\n",
       "    <tr style=\"text-align: right;\">\n",
       "      <th></th>\n",
       "      <th>x</th>\n",
       "      <th>y</th>\n",
       "      <th>z</th>\n",
       "    </tr>\n",
       "  </thead>\n",
       "  <tbody>\n",
       "    <tr>\n",
       "      <td>0</td>\n",
       "      <td>-0.064209</td>\n",
       "      <td>0.028076</td>\n",
       "      <td>0.154785</td>\n",
       "    </tr>\n",
       "    <tr>\n",
       "      <td>1</td>\n",
       "      <td>-0.645020</td>\n",
       "      <td>-0.220459</td>\n",
       "      <td>0.068604</td>\n",
       "    </tr>\n",
       "    <tr>\n",
       "      <td>2</td>\n",
       "      <td>2.791260</td>\n",
       "      <td>-0.025879</td>\n",
       "      <td>0.772705</td>\n",
       "    </tr>\n",
       "    <tr>\n",
       "      <td>3</td>\n",
       "      <td>-0.729736</td>\n",
       "      <td>-0.090332</td>\n",
       "      <td>0.064453</td>\n",
       "    </tr>\n",
       "    <tr>\n",
       "      <td>4</td>\n",
       "      <td>-0.746582</td>\n",
       "      <td>-0.261719</td>\n",
       "      <td>0.439941</td>\n",
       "    </tr>\n",
       "    <tr>\n",
       "      <td>...</td>\n",
       "      <td>...</td>\n",
       "      <td>...</td>\n",
       "      <td>...</td>\n",
       "    </tr>\n",
       "    <tr>\n",
       "      <td>5456</td>\n",
       "      <td>2.004395</td>\n",
       "      <td>-0.074951</td>\n",
       "      <td>-0.950439</td>\n",
       "    </tr>\n",
       "    <tr>\n",
       "      <td>5457</td>\n",
       "      <td>0.312500</td>\n",
       "      <td>-0.072021</td>\n",
       "      <td>0.212891</td>\n",
       "    </tr>\n",
       "    <tr>\n",
       "      <td>5458</td>\n",
       "      <td>0.654541</td>\n",
       "      <td>-0.077148</td>\n",
       "      <td>0.554199</td>\n",
       "    </tr>\n",
       "    <tr>\n",
       "      <td>5459</td>\n",
       "      <td>1.700684</td>\n",
       "      <td>0.116211</td>\n",
       "      <td>-1.566406</td>\n",
       "    </tr>\n",
       "    <tr>\n",
       "      <td>5460</td>\n",
       "      <td>-0.127197</td>\n",
       "      <td>-0.183594</td>\n",
       "      <td>0.167725</td>\n",
       "    </tr>\n",
       "  </tbody>\n",
       "</table>\n",
       "<p>5461 rows × 3 columns</p>\n",
       "</div>"
      ],
      "text/plain": [
       "             x         y         z\n",
       "0    -0.064209  0.028076  0.154785\n",
       "1    -0.645020 -0.220459  0.068604\n",
       "2     2.791260 -0.025879  0.772705\n",
       "3    -0.729736 -0.090332  0.064453\n",
       "4    -0.746582 -0.261719  0.439941\n",
       "...        ...       ...       ...\n",
       "5456  2.004395 -0.074951 -0.950439\n",
       "5457  0.312500 -0.072021  0.212891\n",
       "5458  0.654541 -0.077148  0.554199\n",
       "5459  1.700684  0.116211 -1.566406\n",
       "5460 -0.127197 -0.183594  0.167725\n",
       "\n",
       "[5461 rows x 3 columns]"
      ]
     },
     "execution_count": 217,
     "metadata": {},
     "output_type": "execute_result"
    }
   ],
   "source": [
    "dataset"
   ]
  },
  {
   "cell_type": "markdown",
   "metadata": {},
   "source": [
    "### Preprocessing 2"
   ]
  },
  {
   "cell_type": "code",
   "execution_count": 240,
   "metadata": {},
   "outputs": [],
   "source": [
    "frames = []\n",
    "def frame():\n",
    "    n=0\n",
    "    while n != len(dataset)-1:\n",
    "        frames.append(dataset.loc[n:n+1].to_numpy())\n",
    "        n += 1\n",
    "    else:\n",
    "        return frames\n"
   ]
  },
  {
   "cell_type": "code",
   "execution_count": 241,
   "metadata": {},
   "outputs": [],
   "source": [
    "gest_frames = frame()"
   ]
  },
  {
   "cell_type": "code",
   "execution_count": 247,
   "metadata": {},
   "outputs": [
    {
     "data": {
      "text/plain": [
       "5460"
      ]
     },
     "execution_count": 247,
     "metadata": {},
     "output_type": "execute_result"
    }
   ],
   "source": [
    "len(gest_frames)"
   ]
  },
  {
   "cell_type": "markdown",
   "metadata": {},
   "source": [
    "### Peprocessing 3 > FFT, feature extraction and feature vector "
   ]
  },
  {
   "cell_type": "code",
   "execution_count": 245,
   "metadata": {},
   "outputs": [],
   "source": [
    "def fft_transform(frame_data):\n",
    "    \n",
    "    fft_transform.feature_set = np.array([])\n",
    "    \n",
    "    for frame in frame_data:\n",
    "        \n",
    "        frame_feature_set = np.array([])\n",
    "        \n",
    "        fft_frame = np.fft.fft(frame, axis=0)\n",
    "#         fft_transform.fft_data.append(fft_frame)\n",
    "        \n",
    "#         n = frame.size\n",
    "#         freq = np.fft.fftfreq(n, d=0.01)\n",
    "#         fft_transform.fft_freq.append(freq)\n",
    "        \n",
    "#         fft_ps = np.abs(fft_frame)**2\n",
    "#         fft_transform.fft_power_spec.append(fft_ps)\n",
    "        \n",
    "        mean = np.mean(fft_frame, axis=0)\n",
    "        frame_feature_set = np.concatenate((frame_feature_set, mean), axis=0)\n",
    "        \n",
    "        \n",
    "        energy = (np.sum((fft_frame**2),axis=0))/len(fft_frame)\n",
    "        frame_feature_set = np.concatenate((frame_feature_set, energy), axis=0)\n",
    "        \n",
    "        \n",
    "        stdev = np.std(fft_frame, axis=0)\n",
    "        frame_feature_set = np.concatenate((frame_feature_set, stdev), axis=0)\n",
    "        \n",
    "        \n",
    "        correlation = np.corrcoef(fft_frame, rowvar=False).reshape(3,3)\n",
    "        frame_feature_set = np.concatenate((frame_feature_set.reshape(3,3), correlation), axis=0)\n",
    "        \n",
    "        fft_transform.feature_set = np.concatenate((frame_feature_set.flatten(), fft_transform.feature_set), axis=0)\n",
    "    \n",
    "#  make a simple array         \n",
    "\n",
    "    return fft_transform.feature_set"
   ]
  },
  {
   "cell_type": "code",
   "execution_count": 246,
   "metadata": {},
   "outputs": [
    {
     "data": {
      "text/plain": [
       "array([ 1.70068359+0.j,  0.11621094+0.j, -1.56640625+0.j, ...,\n",
       "       -1.        +0.j, -1.        +0.j,  1.        +0.j])"
      ]
     },
     "execution_count": 246,
     "metadata": {},
     "output_type": "execute_result"
    }
   ],
   "source": [
    "fft_transform(gest_frames)"
   ]
  },
  {
   "cell_type": "markdown",
   "metadata": {},
   "source": [
    "### Training data set "
   ]
  },
  {
   "cell_type": "code",
   "execution_count": 250,
   "metadata": {},
   "outputs": [],
   "source": [
    "n = int((fft_transform.feature_set.size)/180)\n",
    "axis = 3\n",
    "feature_10axis = 60\n",
    "fft_transform.feature_set = fft_transform.feature_set.reshape(n,(feature_10axis*axis))\n",
    "X = np.abs(fft_transform.feature_set)\n",
    "y = labels"
   ]
  },
  {
   "cell_type": "code",
   "execution_count": 334,
   "metadata": {},
   "outputs": [
    {
     "data": {
      "text/plain": [
       "(546,)"
      ]
     },
     "execution_count": 334,
     "metadata": {},
     "output_type": "execute_result"
    }
   ],
   "source": [
    "y.shape"
   ]
  },
  {
   "cell_type": "code",
   "execution_count": 335,
   "metadata": {},
   "outputs": [
    {
     "data": {
      "text/plain": [
       "(546, 180)"
      ]
     },
     "execution_count": 335,
     "metadata": {},
     "output_type": "execute_result"
    }
   ],
   "source": [
    "X.shape"
   ]
  },
  {
   "cell_type": "code",
   "execution_count": 315,
   "metadata": {},
   "outputs": [],
   "source": [
    "X_train, X_test, y_train, y_test = train_test_split(X, y, test_size=0.2)"
   ]
  },
  {
   "cell_type": "code",
   "execution_count": 316,
   "metadata": {},
   "outputs": [
    {
     "name": "stderr",
     "output_type": "stream",
     "text": [
      "/Users/martinantos/opt/anaconda3/lib/python3.7/site-packages/sklearn/svm/base.py:193: FutureWarning: The default value of gamma will change from 'auto' to 'scale' in version 0.22 to account better for unscaled features. Set gamma explicitly to 'auto' or 'scale' to avoid this warning.\n",
      "  \"avoid this warning.\", FutureWarning)\n"
     ]
    },
    {
     "data": {
      "text/plain": [
       "SVC(C=0.1, cache_size=200, class_weight=None, coef0=0.0,\n",
       "    decision_function_shape='ovr', degree=3, gamma='auto_deprecated',\n",
       "    kernel='poly', max_iter=-1, probability=False, random_state=None,\n",
       "    shrinking=True, tol=0.001, verbose=False)"
      ]
     },
     "execution_count": 316,
     "metadata": {},
     "output_type": "execute_result"
    }
   ],
   "source": [
    "C = 0.1\n",
    "clf = svm.SVC(kernel='poly',C=C)\n",
    "clf.fit(X_train, y_train)"
   ]
  },
  {
   "cell_type": "code",
   "execution_count": 317,
   "metadata": {},
   "outputs": [],
   "source": [
    "y_pred = clf.predict(X_test)"
   ]
  },
  {
   "cell_type": "code",
   "execution_count": 318,
   "metadata": {},
   "outputs": [
    {
     "name": "stdout",
     "output_type": "stream",
     "text": [
      "accuracy: 0.9272727272727272\n",
      "Precision: 0.9803921568627451\n",
      "Recall: 0.8771929824561403\n"
     ]
    }
   ],
   "source": [
    "print(\"accuracy:\", metrics.accuracy_score(y_test, y_pred))\n",
    "print(\"Precision:\",metrics.precision_score(y_test, y_pred))\n",
    "print(\"Recall:\",metrics.recall_score(y_test, y_pred))"
   ]
  },
  {
   "cell_type": "code",
   "execution_count": null,
   "metadata": {},
   "outputs": [],
   "source": []
  }
 ],
 "metadata": {
  "kernelspec": {
   "display_name": "Python 3",
   "language": "python",
   "name": "python3"
  },
  "language_info": {
   "codemirror_mode": {
    "name": "ipython",
    "version": 3
   },
   "file_extension": ".py",
   "mimetype": "text/x-python",
   "name": "python",
   "nbconvert_exporter": "python",
   "pygments_lexer": "ipython3",
   "version": "3.7.4"
  }
 },
 "nbformat": 4,
 "nbformat_minor": 4
}
